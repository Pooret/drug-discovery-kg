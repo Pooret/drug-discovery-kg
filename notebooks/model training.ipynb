{
 "cells": [
  {
   "cell_type": "code",
   "execution_count": 8,
   "id": "a2b8f71c",
   "metadata": {},
   "outputs": [],
   "source": [
    "# imports\n",
    "import os\n",
    "import numpy as np"
   ]
  },
  {
   "cell_type": "code",
   "execution_count": 6,
   "id": "1a67be76",
   "metadata": {},
   "outputs": [],
   "source": [
    "# pathways\n",
    "DATA_PATH = \"../data/\"\n",
    "DEV_PATH = os.path.join(DATA_PATH, 'preprocessed/ddi-corpus/drug_ner/')"
   ]
  },
  {
   "cell_type": "code",
   "execution_count": 7,
   "id": "70151930",
   "metadata": {},
   "outputs": [
    {
     "data": {
      "text/plain": [
       "'../data/preprocessed/ddi-corpus/drug_ner/'"
      ]
     },
     "execution_count": 7,
     "metadata": {},
     "output_type": "execute_result"
    }
   ],
   "source": []
  },
  {
   "cell_type": "code",
   "execution_count": null,
   "id": "d59666ce",
   "metadata": {},
   "outputs": [],
   "source": []
  }
 ],
 "metadata": {
  "kernelspec": {
   "display_name": "Python 3",
   "language": "python",
   "name": "python3"
  },
  "language_info": {
   "codemirror_mode": {
    "name": "ipython",
    "version": 3
   },
   "file_extension": ".py",
   "mimetype": "text/x-python",
   "name": "python",
   "nbconvert_exporter": "python",
   "pygments_lexer": "ipython3",
   "version": "3.9.4"
  }
 },
 "nbformat": 4,
 "nbformat_minor": 5
}
